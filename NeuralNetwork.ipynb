{
 "cells": [
  {
   "cell_type": "markdown",
   "id": "1ba37491",
   "metadata": {},
   "source": [
    "# **Neural Network without Python Library** \n",
    "*A detailed description of NN, including the maths* &emsp;&emsp;&emsp;&emsp;&emsp;&emsp;&emsp;&emsp;&emsp;&emsp;&emsp;&emsp;&emsp;&emsp;&emsp;&emsp;&emsp;&emsp;&emsp;&emsp;&emsp;&emsp;&emsp;&emsp;&emsp;&emsp;&emsp;&emsp;&emsp;&emsp;&emsp;&emsp;&emsp;&emsp;&emsp;&emsp;&emsp;&emsp;&emsp;&emsp; ~Nitin Rohit"
   ]
  },
  {
   "cell_type": "markdown",
   "id": "0ec2ef01",
   "metadata": {},
   "source": [
    "## Introduction \n",
    "I was always puzzled about the internal working of neural networks and couln't just accept to use the inbuilt libraries as such without understanding the core knowledge of neural network. Sometime later I got a better grasp on it after watching the Machine Learing course by Andrew NG(which is also available in youtube), a great course to start ML. So, thought to share it to all.\n",
    "\n",
    "This notebook is made for my own understanding and for other too get a better grip in neural networks and its application. I will be using a two layered neural network for this task and will be using the MNIST dataset available in Kaggle. In this notebook I'll be explaining about every mathematical equation required to understand the working behind it and some links as reference, which will give you a easy time learning the brain of computer(aka NN)."
   ]
  },
  {
   "cell_type": "markdown",
   "id": "4805c3ef",
   "metadata": {},
   "source": [
    "### About the dataset (Modified National Institute of Standards and Technology)\n",
    "This is one of the most famous dataset of hand written number digits, from zero to nine, used in machine learning for image processing and can be a good start for machine learing enthosiast like me. The size of the images are 28x28 with each pixel value varying between 0 to 255 (from white to black). There are 60,000 examples for training the model and 10,000 examples for testing the accuracy of the model built with each example labelled as one of the digit."
   ]
  },
  {
   "cell_type": "markdown",
   "id": "29ade358",
   "metadata": {},
   "source": [
    "### The algorithm and mathematics\n",
    "In this code I will be using a two layer neural network which has 784 pixels as input parameters, 10 nodes in first layer and 10 nodes in second layer(also the output layer). Neural network is just multi-layered and multi-node logistic regressin with different activation function. \n",
    "So, to the algorithm now. We will be using ReLU as the acivation function for the first layer and softmax for the ouput layer. As the output layer is softmax we will be using cross entopy function, you will understand why when we get to the maths part. The part discussed now was about forward propagation which predicts the ouput for which the values of the weights and bias which should be optimised in accordance to the dataset, which has to done using backward propagation(inverse forward propagation) using gradient decent. Backward propagation is the name given to gradient decent done to all the weights and bias, as the output values of one layer become input for the next layer and using chain rule while applying differentiation we get to see that the variable depends on a backward manner hence the name \"Backward Propagation\". We have to do the back propagation multiple time so that we get the minimum accuracy to call it a ML algorithm.\n",
    "So lets sum up the things you should know before going any further. \n",
    "1. Linear algebra(Basics)\n",
    "2. Differentiation(chain rule)\n",
    "3. Einstein notation(its not that difficult as it sounds)\n",
    "4. python(numpy) \n",
    "\n",
    "That's it? I can't believe it, am I already a data scientist. NO! We havn't done the coding part yet."
   ]
  },
  {
   "cell_type": "markdown",
   "id": "5c6fcd1e",
   "metadata": {},
   "source": [
    "### THE code "
   ]
  },
  {
   "cell_type": "markdown",
   "id": "eea540df",
   "metadata": {},
   "source": [
    "First we have to import the required libraries<br>\n",
    "Pandas just to read the csv files, Numpy for manipulating the arrayed data and Matplotlib for the visualisation part."
   ]
  },
  {
   "cell_type": "code",
   "execution_count": 1,
   "id": "e368e045",
   "metadata": {},
   "outputs": [],
   "source": [
    "import pandas as pd\n",
    "import numpy as np\n",
    "import matplotlib.pyplot as plt\n",
    "%matplotlib inline"
   ]
  },
  {
   "cell_type": "markdown",
   "id": "08cbdee4",
   "metadata": {},
   "source": [
    "Now we have to bring the csv file to the code and then see if we have imported the correct file by viewing the initial datapoints"
   ]
  },
  {
   "cell_type": "code",
   "execution_count": 2,
   "id": "13d01a43",
   "metadata": {},
   "outputs": [
    {
     "name": "stdout",
     "output_type": "stream",
     "text": [
      "   label  1x1  1x2  1x3  1x4  1x5  1x6  1x7  1x8  1x9  ...  28x19  28x20  \\\n",
      "0      5    0    0    0    0    0    0    0    0    0  ...      0      0   \n",
      "1      0    0    0    0    0    0    0    0    0    0  ...      0      0   \n",
      "2      4    0    0    0    0    0    0    0    0    0  ...      0      0   \n",
      "3      1    0    0    0    0    0    0    0    0    0  ...      0      0   \n",
      "4      9    0    0    0    0    0    0    0    0    0  ...      0      0   \n",
      "\n",
      "   28x21  28x22  28x23  28x24  28x25  28x26  28x27  28x28  \n",
      "0      0      0      0      0      0      0      0      0  \n",
      "1      0      0      0      0      0      0      0      0  \n",
      "2      0      0      0      0      0      0      0      0  \n",
      "3      0      0      0      0      0      0      0      0  \n",
      "4      0      0      0      0      0      0      0      0  \n",
      "\n",
      "[5 rows x 785 columns]\n"
     ]
    }
   ],
   "source": [
    "data=pd.read_csv('mnist_train.csv')\n",
    "print(data.head(5))"
   ]
  },
  {
   "cell_type": "markdown",
   "id": "e1c16262",
   "metadata": {},
   "source": [
    "We can see that the imported file is correct and we can now move to the next step where we have to change the data to numpy array and get the dimensions of the dataset."
   ]
  },
  {
   "cell_type": "code",
   "execution_count": 3,
   "id": "b6ed6030",
   "metadata": {},
   "outputs": [],
   "source": [
    "data=np.array(data)\n",
    "m,n = data.shape"
   ]
  },
  {
   "cell_type": "markdown",
   "id": "53187a1e",
   "metadata": {},
   "source": [
    "Now we have to seperate the pixel's values(parameters) and labels so that we can use them as input values and comparing the correct value after the prediction is made by our model, respectively. After getting the input values we have to normalise so that it can be a better dataset as it gets contained between 0-1 and easy to manipulate(see data pre-processing for better understanding)."
   ]
  },
  {
   "cell_type": "code",
   "execution_count": 4,
   "id": "f1eaf1e8",
   "metadata": {},
   "outputs": [],
   "source": [
    "data=data.T\n",
    "Y_train = data[0]\n",
    "X_train = data[1:n]\n",
    "X_train = X_train / 255."
   ]
  },
  {
   "cell_type": "markdown",
   "id": "cbce9d9c",
   "metadata": {},
   "source": [
    "Now lets see how the data has been converted and also the transpose has been taken due to the convention and nothing more, which will be used while explaining the maths part."
   ]
  },
  {
   "cell_type": "code",
   "execution_count": 5,
   "id": "8c95e2c1",
   "metadata": {},
   "outputs": [
    {
     "name": "stdout",
     "output_type": "stream",
     "text": [
      "[5 0 4 ... 5 6 8]\n",
      "[[0. 0. 0. ... 0. 0. 0.]\n",
      " [0. 0. 0. ... 0. 0. 0.]\n",
      " [0. 0. 0. ... 0. 0. 0.]\n",
      " ...\n",
      " [0. 0. 0. ... 0. 0. 0.]\n",
      " [0. 0. 0. ... 0. 0. 0.]\n",
      " [0. 0. 0. ... 0. 0. 0.]]\n"
     ]
    }
   ],
   "source": [
    "print(Y_train)\n",
    "print(X_train)"
   ]
  },
  {
   "cell_type": "markdown",
   "id": "d03ae116",
   "metadata": {},
   "source": [
    "So the data processing has been done properly and now lets move on to the next part which is Forward propagation, before that we have to intialise the weights and bias with some ramdom values(between -0.5 to 0.5). "
   ]
  },
  {
   "cell_type": "code",
   "execution_count": 6,
   "id": "760d7147",
   "metadata": {},
   "outputs": [],
   "source": [
    "def init_params():\n",
    "    W1 = np.random.rand(10, 784) - 0.5\n",
    "    b1 = np.random.rand(10, 1) - 0.5\n",
    "    W2 = np.random.rand(10, 10) - 0.5\n",
    "    b2 = np.random.rand(10, 1) - 0.5\n",
    "    return W1, b1, W2, b2"
   ]
  },
  {
   "cell_type": "markdown",
   "id": "37f6ce15",
   "metadata": {},
   "source": [
    "The dimension of the first weight vector is 10x784 because there are 10 nodes in next layer and 784 input parameters, and the first bias is 10x1 as its the constant that is been added to each of the next layer nodes(10 here). We can give similar explaination to the next weights and bias to get their dimensions as given above."
   ]
  },
  {
   "cell_type": "markdown",
   "id": "2d75f601",
   "metadata": {},
   "source": [
    "Next, we have to define the activation functions which are ReLU and softmax."
   ]
  },
  {
   "cell_type": "code",
   "execution_count": 7,
   "id": "11e8ebf4",
   "metadata": {},
   "outputs": [],
   "source": [
    "def ReLU(Z):\n",
    "    return np.maximum(Z, 0)\n",
    "\n",
    "def softmax(Z):\n",
    "    A = np.exp(Z) / sum(np.exp(Z))\n",
    "    return A"
   ]
  },
  {
   "cell_type": "markdown",
   "id": "ff26bd10",
   "metadata": {},
   "source": [
    "The ReLU function returns the same value if the input is positive else returns zero. The functions can be written as above, 'cause the max(x,0) is ReLU function which can be visualised from the graph.<br>\n",
    "The softmax fucntion just takes the probabilty after each value is raised exponentially. The np.exp does the exponential part and the sum fucntions just adds all the term in the array, later just calculating the probability."
   ]
  },
  {
   "cell_type": "markdown",
   "id": "fb2190d2",
   "metadata": {},
   "source": [
    "As the functions are defined, now we have to just use them in the forward propagation as following."
   ]
  },
  {
   "cell_type": "markdown",
   "id": "861bc401",
   "metadata": {},
   "source": [
    "**The working of forward propagation in mathematics:**<br>\n",
    "$ Z_1=W_1*X^T+b_1 $<br>\n",
    "$ A_1=ReLU(Z_1) $<br>\n",
    "$ Z_2=W_2*A_1+b_2 $<br>\n",
    "$ A_2=softmax(Z_2) $<br><br>\n",
    "where $X$ is the input matrix and $A_2$ is the output matrix. This is just the definition of neural network where we are taking the linear combination of the nodes and passing it through a non linear function. This is a two layer neural network, so there are two such steps involved, if one has to extend this to multiple layer we just have to follow this rule like an induction. Then we have to optimise these weights and bias such that the output matches the desired output. Intially the transpose of the input matrix is taken because the features had to be multiplied with the weights and convention is to mulitple weights by the input matrix, hence the transpose is taken."
   ]
  },
  {
   "cell_type": "code",
   "execution_count": 8,
   "id": "f21c4abb",
   "metadata": {},
   "outputs": [],
   "source": [
    "def forward_prop(W1, b1, W2, b2, X):\n",
    "    Z1 = W1.dot(X) + b1\n",
    "    A1 = ReLU(Z1)\n",
    "    Z2 = W2.dot(A1) + b2\n",
    "    A2 = softmax(Z2)\n",
    "    return Z1, A1, Z2, A2"
   ]
  },
  {
   "cell_type": "markdown",
   "id": "04c0b382",
   "metadata": {},
   "source": [
    "Now to the hardest part-**BACK PROPAGATION**<br>\n",
    "We have to define some function like derivative of ReLU and one hot:<br>\n",
    "der_ReLU is just the derivative of ReLU and one hot just creates an 10x1 array which has one in the correct label and rest are zeros."
   ]
  },
  {
   "cell_type": "code",
   "execution_count": 9,
   "id": "97f0c6e4",
   "metadata": {},
   "outputs": [],
   "source": [
    "def ReLU_deriv(Z):\n",
    "    return Z > 0\n",
    "\n",
    "def one_hot(Y):\n",
    "    one_hot_Y = np.zeros((Y.size, Y.max() + 1)) #creates array of zeros with dimension (number of samples)x10(=category)\n",
    "    one_hot_Y[np.arange(Y.size), Y] = 1         #arange works like loop here and fills the correct label as one using Y\n",
    "    one_hot_Y = one_hot_Y.T\n",
    "    return one_hot_Y"
   ]
  },
  {
   "cell_type": "markdown",
   "id": "20388783",
   "metadata": {},
   "source": [
    "The value of ReLU_deriv is zero for negative values as it is constant and one for positive values as it is same as input<br>\n",
    "The one hot just creates a array of one and zeros as exaplained above."
   ]
  },
  {
   "cell_type": "markdown",
   "id": "29ad5cb9",
   "metadata": {},
   "source": [
    "I'll be explaining each line of code here, as it is the most confusing part, with the mathematical equations and wordings. I would suggest you to understand the maths part as it is the basis of NN and will help to apply them later efficiently."
   ]
  },
  {
   "cell_type": "code",
   "execution_count": 10,
   "id": "70c9804b",
   "metadata": {},
   "outputs": [],
   "source": [
    "def backward_prop(Z1, A1, Z2, A2, W1, W2, X, Y):\n",
    "    one_hot_Y = one_hot(Y)\n",
    "    I=np.ones((m,1))\n",
    "    dZ2 = A2 - one_hot_Y\n",
    "    dW2 = 1 / m * dZ2.dot(A1.T)\n",
    "    db2 = 1 / m * dZ2.dot(I)\n",
    "    dZ1 = W2.T.dot(dZ2) * ReLU_deriv(Z1)\n",
    "    dW1 = 1 / m * dZ1.dot(X.T)\n",
    "    db1 = 1 / m * dZ1.dot(I)\n",
    "    return dW1, db1, dW2, db2"
   ]
  },
  {
   "cell_type": "markdown",
   "id": "cc7f5372",
   "metadata": {},
   "source": [
    "**The working of backward propagation in mathematics:**<br>\n",
    "The cost function used here is negative logarithm of output of the correct label which should be enough as it is probability of all the classification. The value shoots to infinity if the probability is zero to the correct label and tends to zero if probability is one. So now lets write down the values of $ Z_1,Z_2,A_1,A_2 $ in einstein notation. After that we will write the cost function in terms of einstein notation and differentiate to use the gradient decent.<br><br>\n",
    "$$ Cost=-log(F) $$ where F is the probability of correct label<br>\n",
    "einstein notation is just a notation to write the summation of series in short without summation sign. So, we have to understand the limits of the variable and we can understand there is a summation if same variable comes twice.<br>\n",
    "$$ \\sum_{n=1}^N a_ix^i=a_ix^i\\,\\,(einstein\\,\\,notation) $$<br>\n",
    "Now we have to follow some rules so that we don't get confused while understading the mathematics. So, the capital letters will indicate the weights and small letters the bias, for bias there will only one subscript but for weights there will be two (right one indicating the variables from previous layer and left one the node in current layer). We will use letter n and m for first and second layer respectively. So $ _{j}N_i $ is a weight of second layer with  jth variable of ith node.<br>\n",
    "Now we write down the matrices in these form:<br>\n",
    "$$ Z_1=(_{j}M_i x_i+m_i) $$\n",
    "$$ A_1=ReLU(_{j}M_i x_i+m_i) $$ this is the value for a jth node in first layer. Similarly we get,<br>\n",
    "$$ Z_2=(_kN_jReLU(_{j}M_i x_i+m_i)+n_j) $$\n",
    "$$ A_2=\\delta((_kN_jReLU(_{j}M_i x_i+m_i)+n_j)) $$ ,here **delta** is the softmax function<br>\n",
    "Now we just have to differentiate the cost function and write down it in matrix form. But there is a catch, the differentiatoin is not so easy.<br>\n",
    "We will first find the value of this term $ \\frac{\\partial F}{\\partial _{k_0}N_{j_0}} $ and use chain rule to find the derivative of the cost fucntion, we have to do the same for the bias and for the first layer weights and bias.<br>\n",
    "Let for example assume that the correct label is three. Then our  F from cost function would look something like this.\n",
    "$$ F=\\frac{e^{(_3N_jReLU(_{j}M_i x_i+m_i)+n_j)}}{\\sum_{k=1}^{10} e^{(_kN_jReLU(_{j}M_i x_i+m_i)+n_j)}} $$<br>\n",
    "\n",
    "Now if we take differentiation with a weight that belong to the third node then that term will be there in numerator as well as denominator.\n",
    "$$ F=\\frac{e^{(_3N_jReLU(_{j}M_i x_i+m_i)+n_j)}}{\\sum_{k=1}^{10} e^{(_kN_jReLU(_{j}M_i x_i+m_i)+n_j)}}=\\frac{1}{1+pe^{q _{k_0}N_{j_0}}} $$<br>\n",
    "the LHS can be written as in RHS by dividing F with Numerator in numberator and denominator, where p and q are constant w.r.t to  $_{k_0}N_{j_0}$. If you differentiate this term you will find that it works like sigmoidal function whose derivative is F(1-F). Then the derivative for following weight can be written as:\n",
    "$$ \\frac{\\partial F}{\\partial _{3}N_{j_0}}=-\\frac{1}{F}*F(1-F) $$<br>\n",
    "but the weight has a coefficient of ReLU so the term will change to $\\frac{\\partial F}{\\partial _{3}N_{j_0}}=ReLU(_{j_0}M_i x_i+m_i)(F-1)$ and F is the softmax value of correct label.<br>Similarly if you do the differentiation of other nodes you will find the derivative to of similar form but instead of minus one it will be minus zero. So we can think of this as the computed output value minus expected value mulitplied with ReLU (this is so beautifull).<br>\n",
    "So, in genral we can write the derative of second layer as following:$$ \\frac{\\partial F}{\\partial _{k_0}N_{j_0}}=ReLU(_{j_0}M_i x_i+m_i)(\\delta_{k_0}-Y) $$ ,where $\\delta_{k_0}$ is the output value of kth node.<br>\n",
    "Similarly for bias of second layer we can write the same expression but without the ReLU part as it has no coefficient. Then we get:$$ \\frac{\\partial F}{\\partial _{k_0}n}=(\\delta_{k_0}-Y) $$<br> Now you should have understood why we have created one hot function and subtracted it with the computed output ,and why there is no ReLU term mulitplied with the bias updation. We can follow the same method to find the updation values of first layer which is little harder than this but doable(I suggest you to do it).<br><br>"
   ]
  },
  {
   "cell_type": "markdown",
   "id": "6a56325e",
   "metadata": {},
   "source": [
    "We have got the derivative vectors for each datapoints and now we have to update the weights and bias according to gradient decent with a suitable alpha(hyperparameter), which decides the rate of convergence in gradient decent."
   ]
  },
  {
   "cell_type": "code",
   "execution_count": 11,
   "id": "4a53ed11",
   "metadata": {},
   "outputs": [],
   "source": [
    "def update_params(W1, b1, W2, b2, dW1, db1, dW2, db2, alpha):\n",
    "    W1 = W1 - alpha * dW1\n",
    "    b1 = b1 - alpha * db1    \n",
    "    W2 = W2 - alpha * dW2  \n",
    "    b2 = b2 - alpha * db2    \n",
    "    return W1, b1, W2, b2"
   ]
  },
  {
   "cell_type": "markdown",
   "id": "c9a713e5",
   "metadata": {},
   "source": [
    "We now get the predicted value by the model we have built and see how the model will perform using the following functions:"
   ]
  },
  {
   "cell_type": "code",
   "execution_count": 12,
   "id": "08fcac8c",
   "metadata": {},
   "outputs": [],
   "source": [
    "def get_predictions(A2):\n",
    "    return np.argmax(A2, 0)\n",
    "\n",
    "def get_accuracy(predictions, Y):\n",
    "    print(predictions, Y)\n",
    "    return np.sum(predictions == Y) / Y.size"
   ]
  },
  {
   "cell_type": "markdown",
   "id": "8ca83fcf",
   "metadata": {},
   "source": [
    "aboute the above fucntions"
   ]
  },
  {
   "cell_type": "markdown",
   "id": "3f938af4",
   "metadata": {},
   "source": [
    "Oof! We are almost there. Its time to put all the snipets together and see how good our model will perform."
   ]
  },
  {
   "cell_type": "code",
   "execution_count": 13,
   "id": "05b4eb6c",
   "metadata": {},
   "outputs": [],
   "source": [
    "x=np.ones((500,1))\n",
    "y=np.ones((500,1))"
   ]
  },
  {
   "cell_type": "code",
   "execution_count": 14,
   "id": "92f1dd64",
   "metadata": {},
   "outputs": [],
   "source": [
    "def gradient_descent(X, Y, alpha, iterations):\n",
    "    W1, b1, W2, b2 = init_params()\n",
    "    for i in range(iterations):\n",
    "        Z1, A1, Z2, A2 = forward_prop(W1, b1, W2, b2, X)\n",
    "        dW1, db1, dW2, db2 = backward_prop(Z1, A1, Z2, A2, W1, W2, X, Y)\n",
    "        W1, b1, W2, b2 = update_params(W1, b1, W2, b2, dW1, db1, dW2, db2, alpha)\n",
    "        predictions = get_predictions(A2)\n",
    "        m=get_accuracy(predictions, Y)\n",
    "        if i % 10 == 0:\n",
    "            print(\"Iteration: \", i)   \n",
    "            print(m) \n",
    "        x[i]=i\n",
    "        y[i]=m\n",
    "    return W1, b1, W2, b2"
   ]
  },
  {
   "cell_type": "markdown",
   "id": "ff8167fb",
   "metadata": {},
   "source": [
    "Fingers crossed, lets hope that the model is good enough and we will check it with some exmaples."
   ]
  },
  {
   "cell_type": "code",
   "execution_count": 15,
   "id": "900ad0c5",
   "metadata": {},
   "outputs": [
    {
     "name": "stdout",
     "output_type": "stream",
     "text": [
      "[8 8 8 ... 8 8 5] [5 0 4 ... 5 6 8]\n",
      "Iteration:  0\n",
      "0.10376666666666666\n",
      "[8 8 1 ... 8 8 5] [5 0 4 ... 5 6 8]\n",
      "[8 3 1 ... 8 8 5] [5 0 4 ... 5 6 8]\n",
      "[8 3 1 ... 8 8 5] [5 0 4 ... 5 6 8]\n",
      "[8 3 1 ... 8 8 5] [5 0 4 ... 5 6 8]\n",
      "[8 3 1 ... 8 8 5] [5 0 4 ... 5 6 8]\n",
      "[8 3 6 ... 8 8 5] [5 0 4 ... 5 6 8]\n",
      "[8 3 6 ... 8 8 5] [5 0 4 ... 5 6 8]\n",
      "[8 3 6 ... 8 8 5] [5 0 4 ... 5 6 8]\n",
      "[8 3 6 ... 8 8 5] [5 0 4 ... 5 6 8]\n",
      "[8 3 6 ... 8 0 5] [5 0 4 ... 5 6 8]\n",
      "Iteration:  10\n",
      "0.14105\n",
      "[8 3 6 ... 8 0 5] [5 0 4 ... 5 6 8]\n",
      "[8 3 6 ... 8 0 5] [5 0 4 ... 5 6 8]\n",
      "[8 3 6 ... 8 0 5] [5 0 4 ... 5 6 8]\n",
      "[8 3 6 ... 8 6 5] [5 0 4 ... 5 6 8]\n",
      "[8 3 6 ... 8 6 5] [5 0 4 ... 5 6 8]\n",
      "[8 3 6 ... 8 6 5] [5 0 4 ... 5 6 8]\n",
      "[8 3 6 ... 8 6 5] [5 0 4 ... 5 6 8]\n",
      "[8 3 6 ... 8 6 5] [5 0 4 ... 5 6 8]\n",
      "[8 3 6 ... 8 6 5] [5 0 4 ... 5 6 8]\n",
      "[8 3 6 ... 8 6 5] [5 0 4 ... 5 6 8]\n",
      "Iteration:  20\n",
      "0.22136666666666666\n",
      "[8 3 6 ... 8 6 5] [5 0 4 ... 5 6 8]\n",
      "[8 3 6 ... 8 6 5] [5 0 4 ... 5 6 8]\n",
      "[8 3 6 ... 8 6 5] [5 0 4 ... 5 6 8]\n",
      "[8 3 6 ... 8 6 5] [5 0 4 ... 5 6 8]\n",
      "[8 3 6 ... 8 6 5] [5 0 4 ... 5 6 8]\n",
      "[8 3 6 ... 8 6 5] [5 0 4 ... 5 6 8]\n",
      "[8 3 6 ... 8 6 5] [5 0 4 ... 5 6 8]\n",
      "[8 3 6 ... 8 6 5] [5 0 4 ... 5 6 8]\n",
      "[8 3 6 ... 8 6 5] [5 0 4 ... 5 6 8]\n",
      "[8 3 6 ... 8 6 5] [5 0 4 ... 5 6 8]\n",
      "Iteration:  30\n",
      "0.30143333333333333\n",
      "[8 0 6 ... 8 6 5] [5 0 4 ... 5 6 8]\n",
      "[8 0 6 ... 8 6 5] [5 0 4 ... 5 6 8]\n",
      "[8 0 6 ... 8 6 5] [5 0 4 ... 5 6 8]\n",
      "[8 0 6 ... 8 6 5] [5 0 4 ... 5 6 8]\n",
      "[8 0 6 ... 8 6 5] [5 0 4 ... 5 6 8]\n",
      "[8 0 6 ... 8 6 5] [5 0 4 ... 5 6 8]\n",
      "[8 0 6 ... 8 6 1] [5 0 4 ... 5 6 8]\n",
      "[8 0 6 ... 8 6 1] [5 0 4 ... 5 6 8]\n",
      "[8 0 6 ... 8 6 1] [5 0 4 ... 5 6 8]\n",
      "[8 0 6 ... 8 6 1] [5 0 4 ... 5 6 8]\n",
      "Iteration:  40\n",
      "0.3626666666666667\n",
      "[8 0 6 ... 8 6 1] [5 0 4 ... 5 6 8]\n",
      "[8 0 6 ... 8 6 1] [5 0 4 ... 5 6 8]\n",
      "[8 0 6 ... 8 6 1] [5 0 4 ... 5 6 8]\n",
      "[8 0 6 ... 8 6 1] [5 0 4 ... 5 6 8]\n",
      "[8 0 6 ... 8 6 1] [5 0 4 ... 5 6 8]\n",
      "[8 0 6 ... 8 6 1] [5 0 4 ... 5 6 8]\n",
      "[8 0 6 ... 8 6 1] [5 0 4 ... 5 6 8]\n",
      "[8 0 6 ... 8 6 1] [5 0 4 ... 5 6 8]\n",
      "[8 0 6 ... 8 6 1] [5 0 4 ... 5 6 8]\n",
      "[8 0 6 ... 8 6 1] [5 0 4 ... 5 6 8]\n",
      "Iteration:  50\n",
      "0.41101666666666664\n",
      "[8 0 6 ... 8 6 1] [5 0 4 ... 5 6 8]\n",
      "[8 0 6 ... 8 6 1] [5 0 4 ... 5 6 8]\n",
      "[8 0 6 ... 8 6 1] [5 0 4 ... 5 6 8]\n",
      "[8 0 6 ... 8 6 1] [5 0 4 ... 5 6 8]\n",
      "[3 0 6 ... 8 6 1] [5 0 4 ... 5 6 8]\n",
      "[3 0 6 ... 8 6 1] [5 0 4 ... 5 6 8]\n",
      "[3 0 6 ... 8 6 1] [5 0 4 ... 5 6 8]\n",
      "[3 0 6 ... 8 6 1] [5 0 4 ... 5 6 8]\n",
      "[3 0 6 ... 8 6 1] [5 0 4 ... 5 6 8]\n",
      "[3 0 6 ... 8 6 1] [5 0 4 ... 5 6 8]\n",
      "Iteration:  60\n",
      "0.45381666666666665\n",
      "[3 0 6 ... 8 6 1] [5 0 4 ... 5 6 8]\n",
      "[3 0 6 ... 8 6 1] [5 0 4 ... 5 6 8]\n",
      "[3 0 6 ... 8 6 1] [5 0 4 ... 5 6 8]\n",
      "[3 0 6 ... 8 6 1] [5 0 4 ... 5 6 8]\n",
      "[3 0 6 ... 8 6 1] [5 0 4 ... 5 6 8]\n",
      "[3 0 6 ... 8 6 1] [5 0 4 ... 5 6 8]\n",
      "[3 0 6 ... 8 6 1] [5 0 4 ... 5 6 8]\n",
      "[3 0 6 ... 8 6 9] [5 0 4 ... 5 6 8]\n",
      "[3 0 6 ... 8 6 9] [5 0 4 ... 5 6 8]\n",
      "[8 0 6 ... 8 6 9] [5 0 4 ... 5 6 8]\n",
      "Iteration:  70\n",
      "0.49483333333333335\n",
      "[8 0 6 ... 8 6 9] [5 0 4 ... 5 6 8]\n",
      "[8 0 6 ... 8 6 9] [5 0 4 ... 5 6 8]\n",
      "[8 0 6 ... 8 6 9] [5 0 4 ... 5 6 8]\n",
      "[8 0 6 ... 8 6 9] [5 0 4 ... 5 6 8]\n",
      "[8 0 6 ... 8 6 9] [5 0 4 ... 5 6 8]\n",
      "[8 0 6 ... 8 6 9] [5 0 4 ... 5 6 8]\n",
      "[8 0 6 ... 8 6 9] [5 0 4 ... 5 6 8]\n",
      "[8 0 6 ... 8 6 9] [5 0 4 ... 5 6 8]\n",
      "[8 0 6 ... 8 6 9] [5 0 4 ... 5 6 8]\n",
      "[8 0 6 ... 8 6 9] [5 0 4 ... 5 6 8]\n",
      "Iteration:  80\n",
      "0.5333\n",
      "[8 0 6 ... 8 6 9] [5 0 4 ... 5 6 8]\n",
      "[8 0 6 ... 8 6 9] [5 0 4 ... 5 6 8]\n",
      "[8 0 6 ... 8 6 9] [5 0 4 ... 5 6 8]\n",
      "[8 0 6 ... 8 6 9] [5 0 4 ... 5 6 8]\n",
      "[8 0 6 ... 8 6 9] [5 0 4 ... 5 6 8]\n",
      "[8 0 6 ... 8 6 9] [5 0 4 ... 5 6 8]\n",
      "[8 0 6 ... 8 6 9] [5 0 4 ... 5 6 8]\n",
      "[8 0 6 ... 8 6 9] [5 0 4 ... 5 6 8]\n",
      "[8 0 6 ... 8 6 9] [5 0 4 ... 5 6 8]\n",
      "[8 0 6 ... 8 6 9] [5 0 4 ... 5 6 8]\n",
      "Iteration:  90\n",
      "0.5692333333333334\n",
      "[8 0 6 ... 8 6 9] [5 0 4 ... 5 6 8]\n",
      "[8 0 6 ... 8 6 9] [5 0 4 ... 5 6 8]\n",
      "[8 0 6 ... 8 6 9] [5 0 4 ... 5 6 8]\n",
      "[8 0 6 ... 8 6 9] [5 0 4 ... 5 6 8]\n",
      "[8 0 6 ... 8 6 9] [5 0 4 ... 5 6 8]\n",
      "[8 0 6 ... 8 6 9] [5 0 4 ... 5 6 8]\n",
      "[8 0 6 ... 8 6 9] [5 0 4 ... 5 6 8]\n",
      "[8 0 6 ... 8 6 9] [5 0 4 ... 5 6 8]\n",
      "[8 0 6 ... 8 6 9] [5 0 4 ... 5 6 8]\n",
      "[8 0 6 ... 8 6 9] [5 0 4 ... 5 6 8]\n",
      "Iteration:  100\n",
      "0.6021166666666666\n",
      "[8 0 6 ... 8 6 9] [5 0 4 ... 5 6 8]\n",
      "[8 0 6 ... 8 6 9] [5 0 4 ... 5 6 8]\n",
      "[8 0 6 ... 8 6 9] [5 0 4 ... 5 6 8]\n",
      "[8 0 6 ... 8 6 9] [5 0 4 ... 5 6 8]\n",
      "[8 0 6 ... 8 6 9] [5 0 4 ... 5 6 8]\n",
      "[8 0 6 ... 8 6 9] [5 0 4 ... 5 6 8]\n",
      "[8 0 6 ... 8 6 9] [5 0 4 ... 5 6 8]\n",
      "[8 0 6 ... 8 6 9] [5 0 4 ... 5 6 8]\n",
      "[8 0 6 ... 8 6 9] [5 0 4 ... 5 6 8]\n",
      "[8 0 6 ... 8 6 9] [5 0 4 ... 5 6 8]\n",
      "Iteration:  110\n",
      "0.6305333333333333\n",
      "[8 0 6 ... 8 6 9] [5 0 4 ... 5 6 8]\n",
      "[8 0 6 ... 8 6 9] [5 0 4 ... 5 6 8]\n",
      "[3 0 6 ... 8 6 9] [5 0 4 ... 5 6 8]\n",
      "[3 0 6 ... 8 6 9] [5 0 4 ... 5 6 8]\n",
      "[3 0 6 ... 8 6 9] [5 0 4 ... 5 6 8]\n",
      "[3 0 6 ... 8 6 9] [5 0 4 ... 5 6 8]\n",
      "[3 0 6 ... 8 6 9] [5 0 4 ... 5 6 8]\n",
      "[3 0 6 ... 8 6 9] [5 0 4 ... 5 6 8]\n",
      "[3 0 6 ... 8 6 9] [5 0 4 ... 5 6 8]\n",
      "[3 0 6 ... 8 6 9] [5 0 4 ... 5 6 8]\n",
      "Iteration:  120\n",
      "0.6548833333333334\n",
      "[3 0 6 ... 8 6 9] [5 0 4 ... 5 6 8]\n",
      "[3 0 6 ... 8 6 9] [5 0 4 ... 5 6 8]\n",
      "[3 0 6 ... 8 6 9] [5 0 4 ... 5 6 8]\n",
      "[3 0 6 ... 8 6 9] [5 0 4 ... 5 6 8]\n",
      "[3 0 6 ... 8 6 9] [5 0 4 ... 5 6 8]\n",
      "[3 0 6 ... 8 6 9] [5 0 4 ... 5 6 8]\n",
      "[3 0 6 ... 8 6 9] [5 0 4 ... 5 6 8]\n",
      "[3 0 6 ... 8 6 9] [5 0 4 ... 5 6 8]\n",
      "[3 0 6 ... 8 6 9] [5 0 4 ... 5 6 8]\n",
      "[3 0 6 ... 8 6 9] [5 0 4 ... 5 6 8]\n",
      "Iteration:  130\n",
      "0.6744666666666667\n",
      "[3 0 6 ... 8 6 9] [5 0 4 ... 5 6 8]\n",
      "[3 0 6 ... 8 6 9] [5 0 4 ... 5 6 8]\n",
      "[3 0 6 ... 8 6 9] [5 0 4 ... 5 6 8]\n",
      "[3 0 6 ... 8 6 9] [5 0 4 ... 5 6 8]\n",
      "[3 0 6 ... 8 6 9] [5 0 4 ... 5 6 8]\n",
      "[3 0 6 ... 8 6 9] [5 0 4 ... 5 6 8]\n",
      "[3 0 6 ... 8 6 9] [5 0 4 ... 5 6 8]\n",
      "[3 0 6 ... 8 6 9] [5 0 4 ... 5 6 8]\n",
      "[3 0 6 ... 8 6 9] [5 0 4 ... 5 6 8]\n",
      "[3 0 6 ... 8 6 9] [5 0 4 ... 5 6 8]\n",
      "Iteration:  140\n",
      "0.6927333333333333\n",
      "[3 0 6 ... 8 6 9] [5 0 4 ... 5 6 8]\n",
      "[3 0 6 ... 8 6 9] [5 0 4 ... 5 6 8]\n",
      "[3 0 6 ... 8 6 9] [5 0 4 ... 5 6 8]\n",
      "[3 0 6 ... 8 6 9] [5 0 4 ... 5 6 8]\n",
      "[3 0 6 ... 8 6 9] [5 0 4 ... 5 6 8]\n",
      "[3 0 6 ... 8 6 9] [5 0 4 ... 5 6 8]\n",
      "[3 0 6 ... 8 6 9] [5 0 4 ... 5 6 8]\n",
      "[3 0 6 ... 8 6 9] [5 0 4 ... 5 6 8]\n",
      "[3 0 6 ... 8 6 9] [5 0 4 ... 5 6 8]\n",
      "[3 0 6 ... 8 6 9] [5 0 4 ... 5 6 8]\n",
      "Iteration:  150\n",
      "0.70805\n",
      "[3 0 6 ... 8 6 9] [5 0 4 ... 5 6 8]\n",
      "[3 0 6 ... 8 6 9] [5 0 4 ... 5 6 8]\n",
      "[3 0 6 ... 8 6 9] [5 0 4 ... 5 6 8]\n",
      "[3 0 6 ... 8 6 9] [5 0 4 ... 5 6 8]\n",
      "[3 0 6 ... 8 6 9] [5 0 4 ... 5 6 8]\n",
      "[3 0 6 ... 8 6 9] [5 0 4 ... 5 6 8]\n",
      "[3 0 6 ... 8 6 9] [5 0 4 ... 5 6 8]\n",
      "[3 0 6 ... 8 6 9] [5 0 4 ... 5 6 8]\n",
      "[3 0 6 ... 8 6 9] [5 0 4 ... 5 6 8]\n",
      "[3 0 6 ... 8 6 9] [5 0 4 ... 5 6 8]\n",
      "Iteration:  160\n",
      "0.7227166666666667\n",
      "[3 0 6 ... 8 6 9] [5 0 4 ... 5 6 8]\n",
      "[3 0 6 ... 8 6 9] [5 0 4 ... 5 6 8]\n",
      "[3 0 6 ... 8 6 9] [5 0 4 ... 5 6 8]\n",
      "[3 0 6 ... 8 6 9] [5 0 4 ... 5 6 8]\n",
      "[3 0 6 ... 8 6 9] [5 0 4 ... 5 6 8]\n",
      "[3 0 6 ... 8 6 9] [5 0 4 ... 5 6 8]\n",
      "[3 0 6 ... 8 6 9] [5 0 4 ... 5 6 8]\n",
      "[3 0 6 ... 8 6 9] [5 0 4 ... 5 6 8]\n",
      "[3 0 6 ... 8 6 9] [5 0 4 ... 5 6 8]\n",
      "[3 0 6 ... 8 6 9] [5 0 4 ... 5 6 8]\n",
      "Iteration:  170\n",
      "0.7349666666666667\n",
      "[3 0 6 ... 8 6 9] [5 0 4 ... 5 6 8]\n",
      "[3 0 6 ... 8 6 9] [5 0 4 ... 5 6 8]\n",
      "[3 0 6 ... 8 6 9] [5 0 4 ... 5 6 8]\n",
      "[3 0 6 ... 8 6 9] [5 0 4 ... 5 6 8]\n",
      "[3 0 6 ... 8 6 9] [5 0 4 ... 5 6 8]\n",
      "[3 0 6 ... 8 6 9] [5 0 4 ... 5 6 8]\n",
      "[3 0 6 ... 8 6 9] [5 0 4 ... 5 6 8]\n",
      "[3 0 6 ... 8 6 9] [5 0 4 ... 5 6 8]\n",
      "[3 0 6 ... 8 6 9] [5 0 4 ... 5 6 8]\n",
      "[3 0 6 ... 8 6 9] [5 0 4 ... 5 6 8]\n",
      "Iteration:  180\n",
      "0.7455666666666667\n",
      "[3 0 6 ... 8 6 9] [5 0 4 ... 5 6 8]\n",
      "[3 0 6 ... 8 6 9] [5 0 4 ... 5 6 8]\n",
      "[3 0 6 ... 8 6 9] [5 0 4 ... 5 6 8]\n",
      "[3 0 6 ... 8 6 9] [5 0 4 ... 5 6 8]\n",
      "[3 0 6 ... 8 6 9] [5 0 4 ... 5 6 8]\n",
      "[3 0 6 ... 8 6 9] [5 0 4 ... 5 6 8]\n",
      "[3 0 6 ... 5 6 9] [5 0 4 ... 5 6 8]\n",
      "[3 0 6 ... 5 6 9] [5 0 4 ... 5 6 8]\n",
      "[3 0 6 ... 5 6 9] [5 0 4 ... 5 6 8]\n",
      "[3 0 6 ... 5 6 9] [5 0 4 ... 5 6 8]\n",
      "Iteration:  190\n",
      "0.7543833333333333\n",
      "[3 0 6 ... 5 6 9] [5 0 4 ... 5 6 8]\n",
      "[3 0 6 ... 5 6 9] [5 0 4 ... 5 6 8]\n",
      "[3 0 6 ... 5 6 9] [5 0 4 ... 5 6 8]\n",
      "[3 0 6 ... 5 6 9] [5 0 4 ... 5 6 8]\n",
      "[3 0 6 ... 5 6 9] [5 0 4 ... 5 6 8]\n",
      "[3 0 6 ... 5 6 9] [5 0 4 ... 5 6 8]\n",
      "[3 0 6 ... 5 6 9] [5 0 4 ... 5 6 8]\n",
      "[3 0 6 ... 5 6 9] [5 0 4 ... 5 6 8]\n",
      "[3 0 6 ... 5 6 9] [5 0 4 ... 5 6 8]\n",
      "[3 0 6 ... 5 6 9] [5 0 4 ... 5 6 8]\n",
      "Iteration:  200\n",
      "0.76335\n",
      "[3 0 6 ... 5 6 9] [5 0 4 ... 5 6 8]\n",
      "[3 0 6 ... 5 6 9] [5 0 4 ... 5 6 8]\n",
      "[3 0 6 ... 5 6 9] [5 0 4 ... 5 6 8]\n",
      "[3 0 6 ... 5 6 9] [5 0 4 ... 5 6 8]\n",
      "[3 0 6 ... 5 6 9] [5 0 4 ... 5 6 8]\n",
      "[3 0 6 ... 5 6 9] [5 0 4 ... 5 6 8]\n",
      "[3 0 6 ... 5 6 9] [5 0 4 ... 5 6 8]\n",
      "[3 0 6 ... 5 6 9] [5 0 4 ... 5 6 8]\n"
     ]
    },
    {
     "name": "stdout",
     "output_type": "stream",
     "text": [
      "[3 0 6 ... 5 6 9] [5 0 4 ... 5 6 8]\n",
      "[3 0 6 ... 5 6 9] [5 0 4 ... 5 6 8]\n",
      "Iteration:  210\n",
      "0.7715166666666666\n",
      "[3 0 6 ... 5 6 9] [5 0 4 ... 5 6 8]\n",
      "[3 0 6 ... 5 6 9] [5 0 4 ... 5 6 8]\n",
      "[3 0 6 ... 5 6 9] [5 0 4 ... 5 6 8]\n",
      "[3 0 6 ... 5 6 9] [5 0 4 ... 5 6 8]\n",
      "[3 0 6 ... 5 6 9] [5 0 4 ... 5 6 8]\n",
      "[3 0 6 ... 5 6 9] [5 0 4 ... 5 6 8]\n",
      "[3 0 6 ... 5 6 9] [5 0 4 ... 5 6 8]\n",
      "[3 0 6 ... 5 6 9] [5 0 4 ... 5 6 8]\n",
      "[3 0 6 ... 5 6 9] [5 0 4 ... 5 6 8]\n",
      "[3 0 6 ... 5 6 9] [5 0 4 ... 5 6 8]\n",
      "Iteration:  220\n",
      "0.7788833333333334\n",
      "[3 0 6 ... 5 6 9] [5 0 4 ... 5 6 8]\n",
      "[3 0 6 ... 5 6 9] [5 0 4 ... 5 6 8]\n",
      "[3 0 6 ... 5 6 9] [5 0 4 ... 5 6 8]\n",
      "[3 0 6 ... 5 6 9] [5 0 4 ... 5 6 8]\n",
      "[3 0 6 ... 5 6 9] [5 0 4 ... 5 6 8]\n",
      "[3 0 6 ... 5 6 9] [5 0 4 ... 5 6 8]\n",
      "[3 0 6 ... 5 6 9] [5 0 4 ... 5 6 8]\n",
      "[3 0 6 ... 5 6 9] [5 0 4 ... 5 6 8]\n",
      "[3 0 6 ... 5 6 9] [5 0 4 ... 5 6 8]\n",
      "[3 0 6 ... 5 6 9] [5 0 4 ... 5 6 8]\n",
      "Iteration:  230\n",
      "0.7845\n",
      "[3 0 6 ... 5 6 9] [5 0 4 ... 5 6 8]\n",
      "[3 0 6 ... 5 6 9] [5 0 4 ... 5 6 8]\n",
      "[3 0 6 ... 5 6 9] [5 0 4 ... 5 6 8]\n",
      "[3 0 6 ... 5 6 9] [5 0 4 ... 5 6 8]\n",
      "[3 0 6 ... 5 6 9] [5 0 4 ... 5 6 8]\n",
      "[3 0 6 ... 5 6 9] [5 0 4 ... 5 6 8]\n",
      "[3 0 6 ... 5 6 9] [5 0 4 ... 5 6 8]\n",
      "[3 0 6 ... 5 6 9] [5 0 4 ... 5 6 8]\n",
      "[3 0 6 ... 5 6 9] [5 0 4 ... 5 6 8]\n",
      "[3 0 6 ... 5 6 9] [5 0 4 ... 5 6 8]\n",
      "Iteration:  240\n",
      "0.7900833333333334\n",
      "[3 0 6 ... 5 6 9] [5 0 4 ... 5 6 8]\n",
      "[3 0 6 ... 5 6 9] [5 0 4 ... 5 6 8]\n",
      "[3 0 6 ... 5 6 9] [5 0 4 ... 5 6 8]\n",
      "[3 0 6 ... 5 6 9] [5 0 4 ... 5 6 8]\n",
      "[3 0 6 ... 5 6 9] [5 0 4 ... 5 6 8]\n",
      "[3 0 6 ... 5 6 9] [5 0 4 ... 5 6 8]\n",
      "[3 0 6 ... 5 6 9] [5 0 4 ... 5 6 8]\n",
      "[3 0 6 ... 5 6 9] [5 0 4 ... 5 6 8]\n",
      "[3 0 6 ... 5 6 9] [5 0 4 ... 5 6 8]\n",
      "[3 0 6 ... 5 6 9] [5 0 4 ... 5 6 8]\n",
      "Iteration:  250\n",
      "0.7958833333333334\n",
      "[3 0 6 ... 5 6 9] [5 0 4 ... 5 6 8]\n",
      "[3 0 6 ... 5 6 9] [5 0 4 ... 5 6 8]\n",
      "[3 0 6 ... 5 6 9] [5 0 4 ... 5 6 8]\n",
      "[3 0 6 ... 5 6 9] [5 0 4 ... 5 6 8]\n",
      "[3 0 6 ... 5 6 9] [5 0 4 ... 5 6 8]\n",
      "[3 0 6 ... 5 6 9] [5 0 4 ... 5 6 8]\n",
      "[3 0 6 ... 5 6 9] [5 0 4 ... 5 6 8]\n",
      "[3 0 6 ... 5 6 9] [5 0 4 ... 5 6 8]\n",
      "[3 0 6 ... 5 6 9] [5 0 4 ... 5 6 8]\n",
      "[3 0 6 ... 5 6 9] [5 0 4 ... 5 6 8]\n",
      "Iteration:  260\n",
      "0.7998833333333333\n",
      "[3 0 6 ... 5 6 9] [5 0 4 ... 5 6 8]\n",
      "[3 0 6 ... 5 6 9] [5 0 4 ... 5 6 8]\n",
      "[3 0 6 ... 5 6 9] [5 0 4 ... 5 6 8]\n",
      "[3 0 6 ... 5 6 9] [5 0 4 ... 5 6 8]\n",
      "[3 0 6 ... 5 6 9] [5 0 4 ... 5 6 8]\n",
      "[3 0 6 ... 5 6 9] [5 0 4 ... 5 6 8]\n",
      "[3 0 6 ... 5 6 9] [5 0 4 ... 5 6 8]\n",
      "[3 0 6 ... 5 6 9] [5 0 4 ... 5 6 8]\n",
      "[3 0 6 ... 5 6 8] [5 0 4 ... 5 6 8]\n",
      "[3 0 6 ... 5 6 8] [5 0 4 ... 5 6 8]\n",
      "Iteration:  270\n",
      "0.8042166666666667\n",
      "[3 0 6 ... 5 6 8] [5 0 4 ... 5 6 8]\n",
      "[3 0 6 ... 5 6 8] [5 0 4 ... 5 6 8]\n",
      "[3 0 6 ... 5 6 8] [5 0 4 ... 5 6 8]\n",
      "[3 0 6 ... 5 6 8] [5 0 4 ... 5 6 8]\n",
      "[3 0 6 ... 5 6 8] [5 0 4 ... 5 6 8]\n",
      "[3 0 6 ... 5 6 8] [5 0 4 ... 5 6 8]\n",
      "[3 0 6 ... 5 6 8] [5 0 4 ... 5 6 8]\n",
      "[3 0 6 ... 5 6 8] [5 0 4 ... 5 6 8]\n",
      "[3 0 6 ... 5 6 8] [5 0 4 ... 5 6 8]\n",
      "[3 0 6 ... 5 6 8] [5 0 4 ... 5 6 8]\n",
      "Iteration:  280\n",
      "0.8079333333333333\n",
      "[3 0 6 ... 5 6 8] [5 0 4 ... 5 6 8]\n",
      "[3 0 6 ... 5 6 8] [5 0 4 ... 5 6 8]\n",
      "[3 0 6 ... 5 6 8] [5 0 4 ... 5 6 8]\n",
      "[3 0 6 ... 5 6 8] [5 0 4 ... 5 6 8]\n",
      "[3 0 6 ... 5 6 8] [5 0 4 ... 5 6 8]\n",
      "[3 0 6 ... 5 6 8] [5 0 4 ... 5 6 8]\n",
      "[3 0 6 ... 5 6 8] [5 0 4 ... 5 6 8]\n",
      "[3 0 6 ... 5 6 8] [5 0 4 ... 5 6 8]\n",
      "[3 0 6 ... 5 6 8] [5 0 4 ... 5 6 8]\n",
      "[3 0 6 ... 5 6 8] [5 0 4 ... 5 6 8]\n",
      "Iteration:  290\n",
      "0.81185\n",
      "[3 0 6 ... 5 6 8] [5 0 4 ... 5 6 8]\n",
      "[3 0 6 ... 5 6 8] [5 0 4 ... 5 6 8]\n",
      "[3 0 6 ... 5 6 8] [5 0 4 ... 5 6 8]\n",
      "[3 0 6 ... 5 6 8] [5 0 4 ... 5 6 8]\n",
      "[3 0 6 ... 5 6 8] [5 0 4 ... 5 6 8]\n",
      "[3 0 6 ... 5 6 8] [5 0 4 ... 5 6 8]\n",
      "[3 0 6 ... 5 6 8] [5 0 4 ... 5 6 8]\n",
      "[3 0 6 ... 5 6 8] [5 0 4 ... 5 6 8]\n",
      "[3 0 6 ... 5 6 8] [5 0 4 ... 5 6 8]\n",
      "[3 0 6 ... 5 6 8] [5 0 4 ... 5 6 8]\n",
      "Iteration:  300\n",
      "0.8153333333333334\n",
      "[3 0 6 ... 5 6 8] [5 0 4 ... 5 6 8]\n",
      "[3 0 6 ... 5 6 8] [5 0 4 ... 5 6 8]\n",
      "[3 0 6 ... 5 6 8] [5 0 4 ... 5 6 8]\n",
      "[3 0 6 ... 5 6 8] [5 0 4 ... 5 6 8]\n",
      "[3 0 6 ... 5 6 8] [5 0 4 ... 5 6 8]\n",
      "[3 0 6 ... 5 6 8] [5 0 4 ... 5 6 8]\n",
      "[3 0 6 ... 5 6 8] [5 0 4 ... 5 6 8]\n",
      "[3 0 6 ... 5 6 8] [5 0 4 ... 5 6 8]\n",
      "[3 0 6 ... 5 6 8] [5 0 4 ... 5 6 8]\n",
      "[3 0 6 ... 5 6 8] [5 0 4 ... 5 6 8]\n",
      "Iteration:  310\n",
      "0.8180666666666667\n",
      "[3 0 6 ... 5 6 8] [5 0 4 ... 5 6 8]\n",
      "[3 0 6 ... 5 6 8] [5 0 4 ... 5 6 8]\n",
      "[3 0 6 ... 5 6 8] [5 0 4 ... 5 6 8]\n",
      "[3 0 6 ... 5 6 8] [5 0 4 ... 5 6 8]\n",
      "[3 0 6 ... 5 6 8] [5 0 4 ... 5 6 8]\n",
      "[3 0 6 ... 5 6 8] [5 0 4 ... 5 6 8]\n",
      "[3 0 6 ... 5 6 8] [5 0 4 ... 5 6 8]\n",
      "[3 0 6 ... 5 6 8] [5 0 4 ... 5 6 8]\n",
      "[3 0 6 ... 5 6 8] [5 0 4 ... 5 6 8]\n",
      "[3 0 6 ... 5 6 8] [5 0 4 ... 5 6 8]\n",
      "Iteration:  320\n",
      "0.821\n",
      "[3 0 6 ... 5 6 8] [5 0 4 ... 5 6 8]\n",
      "[3 0 6 ... 5 6 8] [5 0 4 ... 5 6 8]\n",
      "[3 0 6 ... 5 6 8] [5 0 4 ... 5 6 8]\n",
      "[3 0 6 ... 5 6 8] [5 0 4 ... 5 6 8]\n",
      "[3 0 6 ... 5 6 8] [5 0 4 ... 5 6 8]\n",
      "[3 0 6 ... 5 6 8] [5 0 4 ... 5 6 8]\n",
      "[3 0 6 ... 5 6 8] [5 0 4 ... 5 6 8]\n",
      "[3 0 6 ... 5 6 8] [5 0 4 ... 5 6 8]\n",
      "[3 0 6 ... 5 6 8] [5 0 4 ... 5 6 8]\n",
      "[3 0 6 ... 5 6 8] [5 0 4 ... 5 6 8]\n",
      "Iteration:  330\n",
      "0.82375\n",
      "[3 0 6 ... 5 6 8] [5 0 4 ... 5 6 8]\n",
      "[3 0 6 ... 5 6 8] [5 0 4 ... 5 6 8]\n",
      "[3 0 6 ... 5 6 8] [5 0 4 ... 5 6 8]\n",
      "[3 0 6 ... 5 6 8] [5 0 4 ... 5 6 8]\n",
      "[3 0 6 ... 5 6 8] [5 0 4 ... 5 6 8]\n",
      "[3 0 6 ... 5 6 8] [5 0 4 ... 5 6 8]\n",
      "[3 0 6 ... 5 6 8] [5 0 4 ... 5 6 8]\n",
      "[3 0 6 ... 5 6 8] [5 0 4 ... 5 6 8]\n",
      "[3 0 6 ... 5 6 8] [5 0 4 ... 5 6 8]\n",
      "[3 0 6 ... 5 6 8] [5 0 4 ... 5 6 8]\n",
      "Iteration:  340\n",
      "0.8268\n",
      "[3 0 6 ... 5 6 8] [5 0 4 ... 5 6 8]\n",
      "[3 0 6 ... 5 6 8] [5 0 4 ... 5 6 8]\n",
      "[3 0 6 ... 5 6 8] [5 0 4 ... 5 6 8]\n",
      "[3 0 6 ... 5 6 8] [5 0 4 ... 5 6 8]\n",
      "[3 0 6 ... 5 6 8] [5 0 4 ... 5 6 8]\n",
      "[3 0 6 ... 5 6 8] [5 0 4 ... 5 6 8]\n",
      "[3 0 6 ... 5 6 8] [5 0 4 ... 5 6 8]\n",
      "[3 0 6 ... 5 6 8] [5 0 4 ... 5 6 8]\n",
      "[3 0 6 ... 5 6 8] [5 0 4 ... 5 6 8]\n",
      "[3 0 6 ... 5 6 8] [5 0 4 ... 5 6 8]\n",
      "Iteration:  350\n",
      "0.82885\n",
      "[3 0 6 ... 5 6 8] [5 0 4 ... 5 6 8]\n",
      "[3 0 6 ... 5 6 8] [5 0 4 ... 5 6 8]\n",
      "[3 0 6 ... 5 6 8] [5 0 4 ... 5 6 8]\n",
      "[3 0 6 ... 5 6 8] [5 0 4 ... 5 6 8]\n",
      "[3 0 6 ... 5 6 8] [5 0 4 ... 5 6 8]\n",
      "[3 0 6 ... 5 6 8] [5 0 4 ... 5 6 8]\n",
      "[3 0 6 ... 5 6 8] [5 0 4 ... 5 6 8]\n",
      "[3 0 6 ... 5 6 8] [5 0 4 ... 5 6 8]\n",
      "[3 0 6 ... 5 6 8] [5 0 4 ... 5 6 8]\n",
      "[3 0 6 ... 5 6 8] [5 0 4 ... 5 6 8]\n",
      "Iteration:  360\n",
      "0.8312666666666667\n",
      "[3 0 6 ... 5 6 8] [5 0 4 ... 5 6 8]\n",
      "[3 0 6 ... 5 6 8] [5 0 4 ... 5 6 8]\n",
      "[3 0 6 ... 5 6 8] [5 0 4 ... 5 6 8]\n",
      "[3 0 6 ... 5 6 8] [5 0 4 ... 5 6 8]\n",
      "[3 0 6 ... 5 6 8] [5 0 4 ... 5 6 8]\n",
      "[3 0 6 ... 5 6 8] [5 0 4 ... 5 6 8]\n",
      "[3 0 6 ... 5 6 8] [5 0 4 ... 5 6 8]\n",
      "[3 0 6 ... 5 6 8] [5 0 4 ... 5 6 8]\n",
      "[3 0 6 ... 5 6 8] [5 0 4 ... 5 6 8]\n",
      "[3 0 6 ... 5 6 8] [5 0 4 ... 5 6 8]\n",
      "Iteration:  370\n",
      "0.8335166666666667\n",
      "[3 0 6 ... 5 6 8] [5 0 4 ... 5 6 8]\n",
      "[3 0 6 ... 5 6 8] [5 0 4 ... 5 6 8]\n",
      "[3 0 6 ... 5 6 8] [5 0 4 ... 5 6 8]\n",
      "[3 0 6 ... 5 6 8] [5 0 4 ... 5 6 8]\n",
      "[3 0 6 ... 5 6 8] [5 0 4 ... 5 6 8]\n",
      "[3 0 6 ... 5 6 8] [5 0 4 ... 5 6 8]\n",
      "[3 0 6 ... 5 6 8] [5 0 4 ... 5 6 8]\n",
      "[3 0 6 ... 5 6 8] [5 0 4 ... 5 6 8]\n",
      "[3 0 6 ... 5 6 8] [5 0 4 ... 5 6 8]\n",
      "[3 0 6 ... 5 6 8] [5 0 4 ... 5 6 8]\n",
      "Iteration:  380\n",
      "0.8355833333333333\n",
      "[3 0 6 ... 5 6 8] [5 0 4 ... 5 6 8]\n",
      "[3 0 6 ... 5 6 8] [5 0 4 ... 5 6 8]\n",
      "[3 0 6 ... 5 6 8] [5 0 4 ... 5 6 8]\n",
      "[3 0 6 ... 5 6 8] [5 0 4 ... 5 6 8]\n",
      "[3 0 6 ... 5 6 8] [5 0 4 ... 5 6 8]\n",
      "[3 0 6 ... 5 6 8] [5 0 4 ... 5 6 8]\n",
      "[3 0 6 ... 5 6 8] [5 0 4 ... 5 6 8]\n",
      "[3 0 6 ... 5 6 8] [5 0 4 ... 5 6 8]\n",
      "[3 0 6 ... 5 6 8] [5 0 4 ... 5 6 8]\n",
      "[3 0 6 ... 5 6 8] [5 0 4 ... 5 6 8]\n",
      "Iteration:  390\n",
      "0.837\n",
      "[3 0 6 ... 5 6 8] [5 0 4 ... 5 6 8]\n",
      "[3 0 6 ... 5 6 8] [5 0 4 ... 5 6 8]\n",
      "[3 0 6 ... 5 6 8] [5 0 4 ... 5 6 8]\n",
      "[3 0 6 ... 5 6 8] [5 0 4 ... 5 6 8]\n",
      "[3 0 6 ... 5 6 8] [5 0 4 ... 5 6 8]\n",
      "[3 0 6 ... 5 6 8] [5 0 4 ... 5 6 8]\n",
      "[3 0 6 ... 5 6 8] [5 0 4 ... 5 6 8]\n",
      "[3 0 6 ... 5 6 8] [5 0 4 ... 5 6 8]\n",
      "[3 0 6 ... 5 6 8] [5 0 4 ... 5 6 8]\n",
      "[3 0 6 ... 5 6 8] [5 0 4 ... 5 6 8]\n",
      "Iteration:  400\n",
      "0.8385333333333334\n",
      "[3 0 6 ... 5 6 8] [5 0 4 ... 5 6 8]\n",
      "[3 0 6 ... 5 6 8] [5 0 4 ... 5 6 8]\n",
      "[3 0 6 ... 5 6 8] [5 0 4 ... 5 6 8]\n",
      "[3 0 6 ... 5 6 8] [5 0 4 ... 5 6 8]\n",
      "[3 0 6 ... 5 6 8] [5 0 4 ... 5 6 8]\n",
      "[3 0 6 ... 5 6 8] [5 0 4 ... 5 6 8]\n",
      "[3 0 6 ... 5 6 8] [5 0 4 ... 5 6 8]\n",
      "[3 0 6 ... 5 6 8] [5 0 4 ... 5 6 8]\n",
      "[3 0 6 ... 5 6 8] [5 0 4 ... 5 6 8]\n",
      "[3 0 6 ... 5 6 8] [5 0 4 ... 5 6 8]\n",
      "Iteration:  410\n",
      "0.8402333333333334\n",
      "[3 0 6 ... 5 6 8] [5 0 4 ... 5 6 8]\n",
      "[3 0 6 ... 5 6 8] [5 0 4 ... 5 6 8]\n",
      "[3 0 6 ... 5 6 8] [5 0 4 ... 5 6 8]\n",
      "[3 0 6 ... 5 6 8] [5 0 4 ... 5 6 8]\n",
      "[3 0 6 ... 5 6 8] [5 0 4 ... 5 6 8]\n",
      "[3 0 6 ... 5 6 8] [5 0 4 ... 5 6 8]\n",
      "[3 0 6 ... 5 6 8] [5 0 4 ... 5 6 8]\n",
      "[3 0 6 ... 5 6 8] [5 0 4 ... 5 6 8]\n"
     ]
    },
    {
     "name": "stdout",
     "output_type": "stream",
     "text": [
      "[3 0 6 ... 5 6 8] [5 0 4 ... 5 6 8]\n",
      "[3 0 6 ... 5 6 8] [5 0 4 ... 5 6 8]\n",
      "Iteration:  420\n",
      "0.8415666666666667\n",
      "[3 0 6 ... 5 6 8] [5 0 4 ... 5 6 8]\n",
      "[3 0 6 ... 5 6 8] [5 0 4 ... 5 6 8]\n",
      "[3 0 6 ... 5 6 8] [5 0 4 ... 5 6 8]\n",
      "[3 0 6 ... 5 6 8] [5 0 4 ... 5 6 8]\n",
      "[3 0 6 ... 5 6 8] [5 0 4 ... 5 6 8]\n",
      "[3 0 6 ... 5 6 8] [5 0 4 ... 5 6 8]\n",
      "[3 0 6 ... 5 6 8] [5 0 4 ... 5 6 8]\n",
      "[3 0 6 ... 5 6 8] [5 0 4 ... 5 6 8]\n",
      "[3 0 6 ... 5 6 8] [5 0 4 ... 5 6 8]\n",
      "[3 0 6 ... 5 6 8] [5 0 4 ... 5 6 8]\n",
      "Iteration:  430\n",
      "0.8431\n",
      "[3 0 6 ... 5 6 8] [5 0 4 ... 5 6 8]\n",
      "[3 0 6 ... 5 6 8] [5 0 4 ... 5 6 8]\n",
      "[3 0 6 ... 5 6 8] [5 0 4 ... 5 6 8]\n",
      "[3 0 6 ... 5 6 8] [5 0 4 ... 5 6 8]\n",
      "[3 0 6 ... 5 6 8] [5 0 4 ... 5 6 8]\n",
      "[3 0 6 ... 5 6 8] [5 0 4 ... 5 6 8]\n",
      "[3 0 6 ... 5 6 8] [5 0 4 ... 5 6 8]\n",
      "[3 0 6 ... 5 6 8] [5 0 4 ... 5 6 8]\n",
      "[3 0 6 ... 5 6 8] [5 0 4 ... 5 6 8]\n",
      "[3 0 6 ... 5 6 8] [5 0 4 ... 5 6 8]\n",
      "Iteration:  440\n",
      "0.84435\n",
      "[3 0 6 ... 5 6 8] [5 0 4 ... 5 6 8]\n",
      "[3 0 6 ... 5 6 8] [5 0 4 ... 5 6 8]\n",
      "[3 0 6 ... 5 6 8] [5 0 4 ... 5 6 8]\n",
      "[3 0 6 ... 5 6 8] [5 0 4 ... 5 6 8]\n",
      "[3 0 6 ... 5 6 8] [5 0 4 ... 5 6 8]\n",
      "[3 0 6 ... 5 6 8] [5 0 4 ... 5 6 8]\n",
      "[3 0 6 ... 5 6 8] [5 0 4 ... 5 6 8]\n",
      "[3 0 6 ... 5 6 8] [5 0 4 ... 5 6 8]\n",
      "[3 0 6 ... 5 6 8] [5 0 4 ... 5 6 8]\n",
      "[3 0 6 ... 5 6 8] [5 0 4 ... 5 6 8]\n",
      "Iteration:  450\n",
      "0.8457333333333333\n",
      "[3 0 6 ... 5 6 8] [5 0 4 ... 5 6 8]\n",
      "[3 0 6 ... 5 6 8] [5 0 4 ... 5 6 8]\n",
      "[3 0 6 ... 5 6 8] [5 0 4 ... 5 6 8]\n",
      "[3 0 6 ... 5 6 8] [5 0 4 ... 5 6 8]\n",
      "[3 0 6 ... 5 6 8] [5 0 4 ... 5 6 8]\n",
      "[3 0 6 ... 5 6 8] [5 0 4 ... 5 6 8]\n",
      "[3 0 6 ... 5 6 8] [5 0 4 ... 5 6 8]\n",
      "[3 0 6 ... 5 6 8] [5 0 4 ... 5 6 8]\n",
      "[3 0 6 ... 5 6 8] [5 0 4 ... 5 6 8]\n",
      "[3 0 6 ... 5 6 8] [5 0 4 ... 5 6 8]\n",
      "Iteration:  460\n",
      "0.847\n",
      "[3 0 6 ... 5 6 8] [5 0 4 ... 5 6 8]\n",
      "[3 0 6 ... 5 6 8] [5 0 4 ... 5 6 8]\n",
      "[3 0 6 ... 5 6 8] [5 0 4 ... 5 6 8]\n",
      "[3 0 6 ... 5 6 8] [5 0 4 ... 5 6 8]\n",
      "[3 0 6 ... 5 6 8] [5 0 4 ... 5 6 8]\n",
      "[3 0 6 ... 5 6 8] [5 0 4 ... 5 6 8]\n",
      "[3 0 6 ... 5 6 8] [5 0 4 ... 5 6 8]\n",
      "[3 0 6 ... 5 6 8] [5 0 4 ... 5 6 8]\n",
      "[3 0 6 ... 5 6 8] [5 0 4 ... 5 6 8]\n",
      "[3 0 6 ... 5 6 8] [5 0 4 ... 5 6 8]\n",
      "Iteration:  470\n",
      "0.8485333333333334\n",
      "[3 0 6 ... 5 6 8] [5 0 4 ... 5 6 8]\n",
      "[3 0 6 ... 5 6 8] [5 0 4 ... 5 6 8]\n",
      "[3 0 6 ... 5 6 8] [5 0 4 ... 5 6 8]\n",
      "[3 0 6 ... 5 6 8] [5 0 4 ... 5 6 8]\n",
      "[3 0 6 ... 5 6 8] [5 0 4 ... 5 6 8]\n",
      "[3 0 6 ... 5 6 8] [5 0 4 ... 5 6 8]\n",
      "[3 0 6 ... 5 6 8] [5 0 4 ... 5 6 8]\n",
      "[3 0 6 ... 5 6 8] [5 0 4 ... 5 6 8]\n",
      "[3 0 6 ... 5 6 8] [5 0 4 ... 5 6 8]\n",
      "[3 0 6 ... 5 6 8] [5 0 4 ... 5 6 8]\n",
      "Iteration:  480\n",
      "0.8495166666666667\n",
      "[3 0 6 ... 5 6 8] [5 0 4 ... 5 6 8]\n",
      "[3 0 6 ... 5 6 8] [5 0 4 ... 5 6 8]\n",
      "[3 0 6 ... 5 6 8] [5 0 4 ... 5 6 8]\n",
      "[3 0 6 ... 5 6 8] [5 0 4 ... 5 6 8]\n",
      "[3 0 6 ... 5 6 8] [5 0 4 ... 5 6 8]\n",
      "[3 0 6 ... 5 6 8] [5 0 4 ... 5 6 8]\n",
      "[3 0 6 ... 5 6 8] [5 0 4 ... 5 6 8]\n",
      "[3 0 6 ... 5 6 8] [5 0 4 ... 5 6 8]\n",
      "[3 0 6 ... 5 6 8] [5 0 4 ... 5 6 8]\n",
      "[3 0 6 ... 5 6 8] [5 0 4 ... 5 6 8]\n",
      "Iteration:  490\n",
      "0.8505166666666667\n",
      "[3 0 6 ... 5 6 8] [5 0 4 ... 5 6 8]\n",
      "[3 0 6 ... 5 6 8] [5 0 4 ... 5 6 8]\n",
      "[3 0 6 ... 5 6 8] [5 0 4 ... 5 6 8]\n",
      "[3 0 6 ... 5 6 8] [5 0 4 ... 5 6 8]\n",
      "[3 0 6 ... 5 6 8] [5 0 4 ... 5 6 8]\n",
      "[3 0 6 ... 5 6 8] [5 0 4 ... 5 6 8]\n",
      "[3 0 6 ... 5 6 8] [5 0 4 ... 5 6 8]\n",
      "[3 0 6 ... 5 6 8] [5 0 4 ... 5 6 8]\n",
      "[3 0 6 ... 5 6 8] [5 0 4 ... 5 6 8]\n"
     ]
    }
   ],
   "source": [
    "W1, b1, W2, b2= gradient_descent(X_train, Y_train, 0.10, 500)"
   ]
  },
  {
   "cell_type": "markdown",
   "id": "219e684f",
   "metadata": {},
   "source": [
    "~85%. That's actually good for a two layered neural network. Hats off to you all if you are sticking around and pat yourself for the achievement of understanding the neural network in just one day(maybe lesser)."
   ]
  },
  {
   "cell_type": "code",
   "execution_count": 16,
   "id": "6c56cb7f",
   "metadata": {},
   "outputs": [
    {
     "data": {
      "text/plain": [
       "[<matplotlib.lines.Line2D at 0x199480768e0>]"
      ]
     },
     "execution_count": 16,
     "metadata": {},
     "output_type": "execute_result"
    },
    {
     "data": {
      "image/png": "[encoded data removed]",
      "text/plain": [
       "<Figure size 432x288 with 1 Axes>"
      ]
     },
     "metadata": {
      "needs_background": "light"
     },
     "output_type": "display_data"
    }
   ],
   "source": [
    "plt.plot(x,y)"
   ]
  },
  {
   "cell_type": "markdown",
   "id": "b805ff4c",
   "metadata": {},
   "source": [
    "I had created two arrays to store the values of the accuracy and iteration at each step and have plotted the graph above. We can see that the accuracy is trying to reach 100% and the rate of reaching is rapidly decreasing. We can increase the accuracy by using more iteration but it may overfit the training data hence will become a bad model. Also if you look closely the starting value of the grahp is not zero but around 0.1, this should be obvious as the the weights and bias are random values hence the probability of getting the label correct out of ten digits is 1/10=0.1."
   ]
  },
  {
   "cell_type": "markdown",
   "id": "9276bda2",
   "metadata": {},
   "source": [
    "Now we create two functions for getting the predicted labels for the training set by the first function and the second function will give the image and the predicted vaule together. Then we will try out the model for few labels and see the accuracy."
   ]
  },
  {
   "cell_type": "code",
   "execution_count": 17,
   "id": "1924fd54",
   "metadata": {},
   "outputs": [],
   "source": [
    "def make_predictions(X, W1, b1, W2, b2):\n",
    "    _, _, _, A2 = forward_prop(W1, b1, W2, b2, X)\n",
    "    predictions = get_predictions(A2)\n",
    "    return predictions\n",
    "\n",
    "def test_prediction(index, W1, b1, W2, b2):\n",
    "    current_image = X_train[:, index, None]\n",
    "    prediction = make_predictions(X_train[:, index, None], W1, b1, W2, b2)\n",
    "    label = Y_train[index]\n",
    "    print(\"Prediction: \", prediction)\n",
    "    print(\"Label: \", label)\n",
    "    \n",
    "    current_image = current_image.reshape((28, 28)) * 255\n",
    "    plt.gray()\n",
    "    plt.imshow(current_image, interpolation='nearest')\n",
    "    plt.show()"
   ]
  },
  {
   "cell_type": "code",
   "execution_count": 18,
   "id": "3be404b4",
   "metadata": {},
   "outputs": [
    {
     "name": "stdout",
     "output_type": "stream",
     "text": [
      "Prediction:  [5]\n",
      "Label:  5\n"
     ]
    },
    {
     "data": {
      "image/png": "[encoded data removed]",
      "text/plain": [
       "<Figure size 432x288 with 1 Axes>"
      ]
     },
     "metadata": {
      "needs_background": "light"
     },
     "output_type": "display_data"
    }
   ],
   "source": [
    "test_prediction(328, W1, b1, W2, b2)"
   ]
  },
  {
   "cell_type": "code",
   "execution_count": 19,
   "id": "25c28094",
   "metadata": {},
   "outputs": [
    {
     "name": "stdout",
     "output_type": "stream",
     "text": [
      "Prediction:  [7]\n",
      "Label:  2\n"
     ]
    },
    {
     "data": {
      "image/png": "[encoded data removed]",
      "text/plain": [
       "<Figure size 432x288 with 1 Axes>"
      ]
     },
     "metadata": {
      "needs_background": "light"
     },
     "output_type": "display_data"
    }
   ],
   "source": [
    "test_prediction(28, W1, b1, W2, b2)"
   ]
  },
  {
   "cell_type": "code",
   "execution_count": 20,
   "id": "872db1b0",
   "metadata": {},
   "outputs": [
    {
     "name": "stdout",
     "output_type": "stream",
     "text": [
      "Prediction:  [0]\n",
      "Label:  0\n"
     ]
    },
    {
     "data": {
      "image/png": "[encoded data removed]",
      "text/plain": [
       "<Figure size 432x288 with 1 Axes>"
      ]
     },
     "metadata": {
      "needs_background": "light"
     },
     "output_type": "display_data"
    }
   ],
   "source": [
    "test_prediction(3328, W1, b1, W2, b2)"
   ]
  },
  {
   "cell_type": "code",
   "execution_count": 21,
   "id": "09f5d74d",
   "metadata": {},
   "outputs": [
    {
     "name": "stdout",
     "output_type": "stream",
     "text": [
      "Prediction:  [0]\n",
      "Label:  0\n"
     ]
    },
    {
     "data": {
      "image/png": "[encoded data removed]",
      "text/plain": [
       "<Figure size 432x288 with 1 Axes>"
      ]
     },
     "metadata": {
      "needs_background": "light"
     },
     "output_type": "display_data"
    }
   ],
   "source": [
    "test_prediction(3128, W1, b1, W2, b2)"
   ]
  },
  {
   "cell_type": "markdown",
   "id": "21e39132",
   "metadata": {},
   "source": [
    "Now finally we check the accuracy of the testing set and see how our model performs for a foreign set."
   ]
  },
  {
   "cell_type": "code",
   "execution_count": 22,
   "id": "ed337085",
   "metadata": {},
   "outputs": [],
   "source": [
    "data=pd.read_csv('mnist_test.csv')"
   ]
  },
  {
   "cell_type": "code",
   "execution_count": 23,
   "id": "07abe457",
   "metadata": {},
   "outputs": [
    {
     "name": "stdout",
     "output_type": "stream",
     "text": [
      "[7 2 1 ... 4 5 6] [7 2 1 ... 4 5 6]\n"
     ]
    },
    {
     "data": {
      "text/plain": [
       "0.8572"
      ]
     },
     "execution_count": 23,
     "metadata": {},
     "output_type": "execute_result"
    }
   ],
   "source": [
    "data=np.array(data)\n",
    "data=data.T\n",
    "Y_test = data[0]\n",
    "X_test = data[1:n]\n",
    "X_test = X_test / 255.\n",
    "prediction=make_predictions(X_test, W1, b1, W2, b2)\n",
    "get_accuracy(prediction, Y_test)"
   ]
  },
  {
   "cell_type": "markdown",
   "id": "c7747dda",
   "metadata": {},
   "source": [
    "Wow! We got an accuracy of ~85% again. \n"
   ]
  },
  {
   "cell_type": "markdown",
   "id": "aa062596",
   "metadata": {},
   "source": [
    "It was a pleasure talking to you guys and thank you for joining my ship for the whole trip along with this documentary notebook. I believe you must have understood the working of the neural network much better than before and hope you all continue learing more about machine learing and mathematics:)"
   ]
  }
 ],
 "metadata": {
  "kernelspec": {
   "display_name": "Python 3",
   "language": "python",
   "name": "python3"
  },
  "language_info": {
   "codemirror_mode": {
    "name": "ipython",
    "version": 3
   },
   "file_extension": ".py",
   "mimetype": "text/x-python",
   "name": "python",
   "nbconvert_exporter": "python",
   "pygments_lexer": "ipython3",
   "version": "3.8.8"
  }
 },
 "nbformat": 4,
 "nbformat_minor": 5
}
